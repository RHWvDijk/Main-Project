{
 "cells": [
  {
   "cell_type": "code",
   "execution_count": 1,
   "metadata": {},
   "outputs": [
    {
     "name": "stderr",
     "output_type": "stream",
     "text": [
      "Using TensorFlow backend.\n"
     ]
    }
   ],
   "source": [
    "from keras.models import Sequential, model_from_json\n",
    "from keras.layers import Dense, Flatten, Conv2D, MaxPool2D\n",
    "from keras.optimizers import SGD\n",
    "from keras.callbacks import ModelCheckpoint, TensorBoard\n",
    "from keras.preprocessing.image import ImageDataGenerator\n",
    "from keras import backend as K\n",
    "import matplotlib.pyplot as plt\n",
    "import numpy as np\n",
    "import os\n",
    "import glob\n",
    "import pandas as pd\n",
    "from sklearn.metrics import roc_curve, auc, roc_auc_score"
   ]
  },
  {
   "cell_type": "code",
   "execution_count": 2,
   "metadata": {},
   "outputs": [],
   "source": [
    "def get_pcam_generators(base_dir, train_batch_size=32, val_batch_size=32, IMAGE_SIZE=96):\n",
    "     # dataset parameters\n",
    "    TRAIN_PATH = os.path.join(base_dir, 'train+val', 'train')\n",
    "    VALID_PATH = os.path.join(base_dir, 'train+val', 'valid')\n",
    "\n",
    "    RESCALING_FACTOR = 1./255\n",
    "      \n",
    "    #instantiate data generators\n",
    "    datagen = ImageDataGenerator(rescale=RESCALING_FACTOR)\n",
    "    train_gen = datagen.flow_from_directory(TRAIN_PATH,\n",
    "                                             target_size=(IMAGE_SIZE, IMAGE_SIZE),\n",
    "                                             batch_size=train_batch_size,\n",
    "                                             class_mode='binary')\n",
    "\n",
    "    val_gen = datagen.flow_from_directory(VALID_PATH,\n",
    "                                             target_size=(IMAGE_SIZE, IMAGE_SIZE),\n",
    "                                             batch_size=val_batch_size,\n",
    "                                             class_mode='binary',\n",
    "                                             shuffle=False)\n",
    "    val_gen_full = datagen.flow_from_directory(VALID_PATH,\n",
    "                                             target_size=(IMAGE_SIZE, IMAGE_SIZE),\n",
    "                                             batch_size=16000,\n",
    "                                             class_mode='binary',\n",
    "                                             shuffle=False)\n",
    "    return train_gen, val_gen, val_gen_full"
   ]
  },
  {
   "cell_type": "code",
   "execution_count": 3,
   "metadata": {},
   "outputs": [
    {
     "name": "stdout",
     "output_type": "stream",
     "text": [
      "Found 144000 images belonging to 2 classes.\n",
      "Found 16000 images belonging to 2 classes.\n",
      "Found 16000 images belonging to 2 classes.\n"
     ]
    }
   ],
   "source": [
    "train_gen, val_gen, val_gen_full = get_pcam_generators('C:\\\\Users\\\\Daniel\\\\Documents') #Path to training data\n",
    "x_val = val_gen_full[0][0]\n",
    "y_val = val_gen_full[0][1]"
   ]
  },
  {
   "cell_type": "code",
   "execution_count": 10,
   "metadata": {},
   "outputs": [
    {
     "name": "stdout",
     "output_type": "stream",
     "text": [
      "C:\\Users\\Daniel\\Documents\\kaggle\\dropout\\XceptionDropOut0.0\n",
      "C:\\Users\\Daniel\\Documents\\kaggle\\dropout\\XceptionDropOut0.05\n",
      "C:\\Users\\Daniel\\Documents\\kaggle\\dropout\\XceptionDropOut0.1\n",
      "C:\\Users\\Daniel\\Documents\\kaggle\\dropout\\XceptionDropOut0.15\n",
      "C:\\Users\\Daniel\\Documents\\kaggle\\dropout\\XceptionDropOut0.2\n",
      "C:\\Users\\Daniel\\Documents\\kaggle\\dropout\\XceptionDropOut0.25\n",
      "C:\\Users\\Daniel\\Documents\\kaggle\\dropout\\XceptionDropOut0.3\n",
      "C:\\Users\\Daniel\\Documents\\kaggle\\dropout\\XceptionDropOut0.35\n",
      "C:\\Users\\Daniel\\Documents\\kaggle\\dropout\\XceptionDropOut0.4\n",
      "C:\\Users\\Daniel\\Documents\\kaggle\\dropout\\XceptionDropOut0.45\n",
      "C:\\Users\\Daniel\\Documents\\kaggle\\dropout\\XceptionDropOut0.5\n",
      "C:\\Users\\Daniel\\Documents\\kaggle\\dropout\\XceptionDropOut0.55\n",
      "C:\\Users\\Daniel\\Documents\\kaggle\\dropout\\XceptionDropOut0.6\n",
      "C:\\Users\\Daniel\\Documents\\kaggle\\dropout\\XceptionDropOut0.65\n",
      "C:\\Users\\Daniel\\Documents\\kaggle\\dropout\\XceptionDropOut0.7\n",
      "C:\\Users\\Daniel\\Documents\\kaggle\\dropout\\XceptionDropOut0.75\n",
      "C:\\Users\\Daniel\\Documents\\kaggle\\dropout\\XceptionDropOut0.8\n",
      "C:\\Users\\Daniel\\Documents\\kaggle\\dropout\\XceptionDropOut0.85\n",
      "C:\\Users\\Daniel\\Documents\\kaggle\\dropout\\XceptionDropOut0.9\n",
      "C:\\Users\\Daniel\\Documents\\kaggle\\dropout\\XceptionDropOut0.95\n"
     ]
    }
   ],
   "source": [
    "file_path = 'C:\\\\Users\\\\Daniel\\\\Documents\\\\kaggle\\\\dropout\\\\'\n",
    "file_names = glob.glob(file_path + '*.json')\n",
    "for i in range(len(file_names)):\n",
    "    file_names[i] = os.path.splitext(file_names[i])[0]\n",
    "    print(file_names[i])"
   ]
  },
  {
   "cell_type": "code",
   "execution_count": 11,
   "metadata": {},
   "outputs": [
    {
     "name": "stdout",
     "output_type": "stream",
     "text": [
      "\n",
      "XceptionDropOut0.0 AUC score: 0.91856021875\n",
      "\n",
      " 0.91856021875\n",
      "\n",
      "XceptionDropOut0.05 AUC score: 0.9170230625000001\n",
      "\n",
      " 0.9170230625000001\n",
      "\n",
      "XceptionDropOut0.1 AUC score: 0.9311149921875\n",
      "\n",
      " 0.9311149921875\n",
      "\n",
      "XceptionDropOut0.15 AUC score: 0.9381047812500001\n",
      "\n",
      " 0.9381047812500001\n",
      "\n",
      "XceptionDropOut0.2 AUC score: 0.9265363671875\n",
      "\n",
      " 0.9265363671875\n",
      "\n",
      "XceptionDropOut0.25 AUC score: 0.9201181562499999\n",
      "\n",
      " 0.9201181562499999\n",
      "\n",
      "XceptionDropOut0.3 AUC score: 0.9386361796875\n",
      "\n",
      " 0.9386361796875\n",
      "\n",
      "XceptionDropOut0.35 AUC score: 0.9212029921875\n",
      "\n",
      " 0.9212029921875\n",
      "\n",
      "XceptionDropOut0.4 AUC score: 0.9347842890625\n",
      "\n",
      " 0.9347842890625\n",
      "\n",
      "XceptionDropOut0.45 AUC score: 0.916770828125\n",
      "\n",
      " 0.916770828125\n",
      "\n",
      "XceptionDropOut0.5 AUC score: 0.926045015625\n",
      "\n",
      " 0.926045015625\n",
      "\n",
      "XceptionDropOut0.55 AUC score: 0.9295412890624999\n",
      "\n",
      " 0.9295412890624999\n",
      "\n",
      "XceptionDropOut0.6 AUC score: 0.9244811640625\n",
      "\n",
      " 0.9244811640625\n",
      "\n",
      "XceptionDropOut0.65 AUC score: 0.9295035703125001\n",
      "\n",
      " 0.9295035703125001\n",
      "\n",
      "XceptionDropOut0.7 AUC score: 0.9298198125000002\n",
      "\n",
      " 0.9298198125000002\n",
      "\n",
      "XceptionDropOut0.75 AUC score: 0.919597359375\n",
      "\n",
      " 0.919597359375\n",
      "\n",
      "XceptionDropOut0.8 AUC score: 0.933489125\n",
      "\n",
      " 0.933489125\n",
      "\n",
      "XceptionDropOut0.85 AUC score: 0.8919782890624999\n",
      "\n",
      " 0.8919782890624999\n",
      "\n",
      "XceptionDropOut0.9 AUC score: 0.9289851015625\n",
      "\n",
      " 0.9289851015625\n",
      "\n",
      "XceptionDropOut0.95 AUC score: 0.8755231484374999\n",
      "\n",
      " 0.8755231484374999\n"
     ]
    }
   ],
   "source": [
    "for file_name in file_names:\n",
    "    json_file = open(file_name+'.json', 'r')\n",
    "    loaded_model_json = json_file.read()\n",
    "    json_file.close()\n",
    "    loaded_model = model_from_json(loaded_model_json)\n",
    "    loaded_model.load_weights(file_name+'_weights.hdf5')\n",
    "    predictions = loaded_model.predict([x_val])\n",
    "    fpr, tpr, _ = roc_curve(y_val, predictions)\n",
    "    auc_val = auc(fpr, tpr)\n",
    "    print(\"\\n\"+os.path.split(file_name)[1]+' AUC score:',auc_val)\n",
    "    print(\"\\n\",roc_auc_score(y_val,predictions))\n",
    "    K.clear_session()"
   ]
  }
 ],
 "metadata": {
  "kernelspec": {
   "display_name": "Python 3",
   "language": "python",
   "name": "python3"
  },
  "language_info": {
   "codemirror_mode": {
    "name": "ipython",
    "version": 3
   },
   "file_extension": ".py",
   "mimetype": "text/x-python",
   "name": "python",
   "nbconvert_exporter": "python",
   "pygments_lexer": "ipython3",
   "version": "3.6.8"
  }
 },
 "nbformat": 4,
 "nbformat_minor": 2
}
